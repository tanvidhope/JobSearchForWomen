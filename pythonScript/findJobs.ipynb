{
  "nbformat": 4,
  "nbformat_minor": 0,
  "metadata": {
    "colab": {
      "name": "findJobs.ipynb",
      "provenance": [],
      "collapsed_sections": [],
      "toc_visible": true
    },
    "kernelspec": {
      "name": "python3",
      "display_name": "Python 3"
    }
  },
  "cells": [
    {
      "cell_type": "code",
      "metadata": {
        "id": "dWTOCa6s537H"
      },
      "source": [
        "from bs4 import BeautifulSoup \r\n",
        "import requests \r\n",
        "import csv"
      ],
      "execution_count": null,
      "outputs": []
    },
    {
      "cell_type": "code",
      "metadata": {
        "colab": {
          "base_uri": "https://localhost:8080/"
        },
        "id": "MZB6WaSF56_H",
        "outputId": "48638f8c-1303-4cc7-89fe-9bfe765432d5"
      },
      "source": [
        "name = input(\"Job name:\\n\").replace(\" \",\"-\")\r\n",
        "city = input(\"City name:\\n\")\r\n",
        "state = input(\"State name:\\n\")"
      ],
      "execution_count": null,
      "outputs": [
        {
          "output_type": "stream",
          "text": [
            "Job name:\n",
            "Receptionist\n",
            "City name:\n",
            "Mumbai\n",
            "State name:\n",
            "Maharashtra\n"
          ],
          "name": "stdout"
        }
      ]
    },
    {
      "cell_type": "code",
      "metadata": {
        "colab": {
          "base_uri": "https://localhost:8080/"
        },
        "id": "vGU13Cll6Ex6",
        "outputId": "39828a40-b838-4429-abd8-1b3b5625414d"
      },
      "source": [
        "res = requests.get(f'https://www.indeed.co.in/{name}-jobs-in-{city},-{state}')\r\n",
        "print(res)"
      ],
      "execution_count": null,
      "outputs": [
        {
          "output_type": "stream",
          "text": [
            "<Response [200]>\n"
          ],
          "name": "stdout"
        }
      ]
    },
    {
      "cell_type": "code",
      "metadata": {
        "id": "5H-s2Cbi6Nnk"
      },
      "source": [
        "soup = BeautifulSoup(res.text,'html.parser')"
      ],
      "execution_count": null,
      "outputs": []
    },
    {
      "cell_type": "code",
      "metadata": {
        "id": "yPDlFAu76QPr"
      },
      "source": [
        "job_name = soup.select('.jobtitle')"
      ],
      "execution_count": null,
      "outputs": []
    },
    {
      "cell_type": "code",
      "metadata": {
        "id": "UoZ-8vZe6TNv"
      },
      "source": [
        "with open('jobs.csv', 'a',newline=\"\\n\",encoding=\"utf-8\") as f:\r\n",
        "                    writer = csv.writer(f)\r\n",
        "                    writer.writerow([\"title\", \"organization\", \"location\", \"salary\", \"url\"])\r\n",
        "for i in range(len(job_name)):\r\n",
        "    job_name = soup.select('.jobtitle')[i].getText().strip()\r\n",
        "    job_company = soup.select('.company')[i].getText().strip().replace(\",\",\" \")\r\n",
        "    job_location = soup.select('.location')[i].getText().strip().replace(\",\",\" \")\r\n",
        "    try :\r\n",
        "        job_money = soup.select(\".salaryText\")[i].getText()\r\n",
        "    except :\r\n",
        "        job_money = \"\"\r\n",
        "    h2 = soup.find('h2',{'class':'title'})\r\n",
        "    a = h2.find('a')\r\n",
        "    link = a.attrs.get(\"href\")\r\n",
        "    url = \"https://www.indeed.co.in\"+link\r\n",
        "    row = [job_name,job_company,job_location,job_money,url]\r\n",
        "    #print(row)\r\n",
        "    with open('jobs.csv', 'a',newline=\"\\n\",encoding=\"utf-8\") as f:\r\n",
        "                    writer = csv.writer(f)\r\n",
        "                    writer.writerow(row)\r\n"
      ],
      "execution_count": null,
      "outputs": []
    },
    {
      "cell_type": "code",
      "metadata": {
        "id": "B1QWr9DCoJCo"
      },
      "source": [
        "import pandas as pd\r\n",
        "import numpy as np\r\n",
        "import json\r\n",
        "import os\r\n",
        "import re\r\n",
        "\r\n",
        "import firebase_admin\r\n",
        "from firebase_admin import firestore, credentials"
      ],
      "execution_count": null,
      "outputs": []
    },
    {
      "cell_type": "markdown",
      "metadata": {
        "id": "hHaPy4AooNzr"
      },
      "source": [
        "# Generating Json"
      ]
    },
    {
      "cell_type": "code",
      "metadata": {
        "id": "FLC7G-8qoRfl"
      },
      "source": [
        "def jsonify_row(r):\r\n",
        "    r['salary'] = re.sub(r'[^\\x00-\\x7f]',r'', r['salary'])\r\n",
        "    out = {\r\n",
        "        'title' : r['title'],\r\n",
        "        'organization' : r['organization'],\r\n",
        "        'location' : r['location'],\r\n",
        "        'salary' : r['salary'],\r\n",
        "        'url' : r['url']\r\n",
        "    }\r\n",
        "\r\n",
        "    return out"
      ],
      "execution_count": null,
      "outputs": []
    },
    {
      "cell_type": "code",
      "metadata": {
        "id": "XLOJGsp0oUrJ"
      },
      "source": [
        "df = pd.read_csv('jobs.csv')"
      ],
      "execution_count": null,
      "outputs": []
    },
    {
      "cell_type": "code",
      "metadata": {
        "colab": {
          "base_uri": "https://localhost:8080/",
          "height": 279
        },
        "id": "HnF9Ra3iohXr",
        "outputId": "3f9b0efd-ac3e-487d-fe83-48318fc1b568"
      },
      "source": [
        "df.head()"
      ],
      "execution_count": null,
      "outputs": [
        {
          "output_type": "execute_result",
          "data": {
            "text/html": [
              "<div>\n",
              "<style scoped>\n",
              "    .dataframe tbody tr th:only-of-type {\n",
              "        vertical-align: middle;\n",
              "    }\n",
              "\n",
              "    .dataframe tbody tr th {\n",
              "        vertical-align: top;\n",
              "    }\n",
              "\n",
              "    .dataframe thead th {\n",
              "        text-align: right;\n",
              "    }\n",
              "</style>\n",
              "<table border=\"1\" class=\"dataframe\">\n",
              "  <thead>\n",
              "    <tr style=\"text-align: right;\">\n",
              "      <th></th>\n",
              "      <th>title</th>\n",
              "      <th>organization</th>\n",
              "      <th>location</th>\n",
              "      <th>salary</th>\n",
              "      <th>url</th>\n",
              "      <th>json</th>\n",
              "    </tr>\n",
              "  </thead>\n",
              "  <tbody>\n",
              "    <tr>\n",
              "      <th>0</th>\n",
              "      <td>Corporate Receptionist</td>\n",
              "      <td>Dirt Busters</td>\n",
              "      <td>Mumbai  Maharashtra</td>\n",
              "      <td>1,50,000 - 2,50,000 a year</td>\n",
              "      <td>https://www.indeed.co.in/rc/clk?jk=f16737efa4c...</td>\n",
              "      <td>{'title': 'Corporate Receptionist', 'organizat...</td>\n",
              "    </tr>\n",
              "    <tr>\n",
              "      <th>1</th>\n",
              "      <td>Receptionist Job For Freshers</td>\n",
              "      <td>Magna India Services</td>\n",
              "      <td>Mumbai  Maharashtra</td>\n",
              "      <td>1,50,000 - 2,50,000 a year</td>\n",
              "      <td>https://www.indeed.co.in/rc/clk?jk=f16737efa4c...</td>\n",
              "      <td>{'title': 'Receptionist Job For Freshers', 'or...</td>\n",
              "    </tr>\n",
              "    <tr>\n",
              "      <th>2</th>\n",
              "      <td>Receptionist Job In Bengaluru</td>\n",
              "      <td>Magna India Services</td>\n",
              "      <td>Mumbai  Maharashtra</td>\n",
              "      <td>1,00,000 - 3,00,000 a year</td>\n",
              "      <td>https://www.indeed.co.in/rc/clk?jk=f16737efa4c...</td>\n",
              "      <td>{'title': 'Receptionist Job In Bengaluru', 'or...</td>\n",
              "    </tr>\n",
              "    <tr>\n",
              "      <th>3</th>\n",
              "      <td>Senior Receptionist</td>\n",
              "      <td>Mark IT Solutions</td>\n",
              "      <td>Mumbai  Maharashtra</td>\n",
              "      <td>4,000 - 6,000 a month</td>\n",
              "      <td>https://www.indeed.co.in/rc/clk?jk=f16737efa4c...</td>\n",
              "      <td>{'title': 'Senior Receptionist', 'organization...</td>\n",
              "    </tr>\n",
              "    <tr>\n",
              "      <th>4</th>\n",
              "      <td>Receptionist / Front Desk Manager</td>\n",
              "      <td>Flexiventures Private Limited</td>\n",
              "      <td>Andheri  Mumbai  Maharashtra</td>\n",
              "      <td>-</td>\n",
              "      <td>https://www.indeed.co.in/rc/clk?jk=f16737efa4c...</td>\n",
              "      <td>{'title': 'Receptionist / Front Desk Manager',...</td>\n",
              "    </tr>\n",
              "  </tbody>\n",
              "</table>\n",
              "</div>"
            ],
            "text/plain": [
              "                               title  ...                                               json\n",
              "0             Corporate Receptionist  ...  {'title': 'Corporate Receptionist', 'organizat...\n",
              "1      Receptionist Job For Freshers  ...  {'title': 'Receptionist Job For Freshers', 'or...\n",
              "2      Receptionist Job In Bengaluru  ...  {'title': 'Receptionist Job In Bengaluru', 'or...\n",
              "3                Senior Receptionist  ...  {'title': 'Senior Receptionist', 'organization...\n",
              "4  Receptionist / Front Desk Manager  ...  {'title': 'Receptionist / Front Desk Manager',...\n",
              "\n",
              "[5 rows x 6 columns]"
            ]
          },
          "metadata": {
            "tags": []
          },
          "execution_count": 52
        }
      ]
    },
    {
      "cell_type": "code",
      "metadata": {
        "id": "3ms-q7ztpEd-"
      },
      "source": [
        "df.salary = df.salary.fillna('-')\r\n",
        "df.salary = df.salary.str.strip()\r\n",
        "df['json'] = df.apply(lambda x : jsonify_row(x), axis=1)"
      ],
      "execution_count": null,
      "outputs": []
    },
    {
      "cell_type": "code",
      "metadata": {
        "colab": {
          "base_uri": "https://localhost:8080/",
          "height": 346
        },
        "id": "jv--iQGTpNBV",
        "outputId": "3068e978-c4bd-4da1-8eaa-c9fc066ac79e"
      },
      "source": [
        "cred = credentials.Certificate(\"secret.json\")\r\n",
        "firebase_admin.initialize_app(cred)\r\n",
        "db = firestore.client()"
      ],
      "execution_count": null,
      "outputs": [
        {
          "output_type": "error",
          "ename": "ValueError",
          "evalue": "ignored",
          "traceback": [
            "\u001b[0;31m---------------------------------------------------------------------------\u001b[0m",
            "\u001b[0;31mValueError\u001b[0m                                Traceback (most recent call last)",
            "\u001b[0;32m<ipython-input-53-e3157b9b7758>\u001b[0m in \u001b[0;36m<module>\u001b[0;34m()\u001b[0m\n\u001b[1;32m      1\u001b[0m \u001b[0mcred\u001b[0m \u001b[0;34m=\u001b[0m \u001b[0mcredentials\u001b[0m\u001b[0;34m.\u001b[0m\u001b[0mCertificate\u001b[0m\u001b[0;34m(\u001b[0m\u001b[0;34m\"secret.json\"\u001b[0m\u001b[0;34m)\u001b[0m\u001b[0;34m\u001b[0m\u001b[0;34m\u001b[0m\u001b[0m\n\u001b[0;32m----> 2\u001b[0;31m \u001b[0mfirebase_admin\u001b[0m\u001b[0;34m.\u001b[0m\u001b[0minitialize_app\u001b[0m\u001b[0;34m(\u001b[0m\u001b[0mcred\u001b[0m\u001b[0;34m)\u001b[0m\u001b[0;34m\u001b[0m\u001b[0;34m\u001b[0m\u001b[0m\n\u001b[0m\u001b[1;32m      3\u001b[0m \u001b[0mdb\u001b[0m \u001b[0;34m=\u001b[0m \u001b[0mfirestore\u001b[0m\u001b[0;34m.\u001b[0m\u001b[0mclient\u001b[0m\u001b[0;34m(\u001b[0m\u001b[0;34m)\u001b[0m\u001b[0;34m\u001b[0m\u001b[0;34m\u001b[0m\u001b[0m\n",
            "\u001b[0;32m/usr/local/lib/python3.6/dist-packages/firebase_admin/__init__.py\u001b[0m in \u001b[0;36minitialize_app\u001b[0;34m(credential, options, name)\u001b[0m\n\u001b[1;32m     70\u001b[0m     \u001b[0;32mif\u001b[0m \u001b[0mname\u001b[0m \u001b[0;34m==\u001b[0m \u001b[0m_DEFAULT_APP_NAME\u001b[0m\u001b[0;34m:\u001b[0m\u001b[0;34m\u001b[0m\u001b[0;34m\u001b[0m\u001b[0m\n\u001b[1;32m     71\u001b[0m         raise ValueError((\n\u001b[0;32m---> 72\u001b[0;31m             \u001b[0;34m'The default Firebase app already exists. This means you called '\u001b[0m\u001b[0;34m\u001b[0m\u001b[0;34m\u001b[0m\u001b[0m\n\u001b[0m\u001b[1;32m     73\u001b[0m             \u001b[0;34m'initialize_app() more than once without providing an app name as '\u001b[0m\u001b[0;34m\u001b[0m\u001b[0;34m\u001b[0m\u001b[0m\n\u001b[1;32m     74\u001b[0m             \u001b[0;34m'the second argument. In most cases you only need to call '\u001b[0m\u001b[0;34m\u001b[0m\u001b[0;34m\u001b[0m\u001b[0m\n",
            "\u001b[0;31mValueError\u001b[0m: The default Firebase app already exists. This means you called initialize_app() more than once without providing an app name as the second argument. In most cases you only need to call initialize_app() once. But if you do want to initialize multiple apps, pass a second argument to initialize_app() to give each app a unique name."
          ]
        }
      ]
    },
    {
      "cell_type": "code",
      "metadata": {
        "id": "mUOpeJcLpR7o"
      },
      "source": [
        "for job in df.json.values:\r\n",
        "    db.collection('indeedJobs').add(job)"
      ],
      "execution_count": null,
      "outputs": []
    },
    {
      "cell_type": "code",
      "metadata": {
        "id": "V03wsbMF-r0N"
      },
      "source": [
        ""
      ],
      "execution_count": null,
      "outputs": []
    }
  ]
}